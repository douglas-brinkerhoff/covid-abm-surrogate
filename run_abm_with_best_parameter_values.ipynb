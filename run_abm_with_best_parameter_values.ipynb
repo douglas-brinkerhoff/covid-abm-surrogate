{
 "cells": [
  {
   "cell_type": "code",
   "execution_count": null,
   "metadata": {},
   "outputs": [],
   "source": [
    "import numpy as np\n",
    "import pandemic as pan\n",
    "import matplotlib.pyplot as plt\n",
    "import pandas as pd"
   ]
  },
  {
   "cell_type": "code",
   "execution_count": null,
   "metadata": {},
   "outputs": [],
   "source": [
    "keys = ['initial_infected_fraction', 'initial_removed_fraction', 'incubation_period', \n",
    "        'serial_interval', 'symptomatic_fraction', 'recovery_days', 'quarantine_days', \n",
    "        'days_indetectable', 'R0', 'contact_rate', 'npi_factor', 'contact_tracing_testing_rate', \n",
    "        'contact_tracing_quarantine_rate', 'contact_tracing_days', 'daily_testing_fraction', \n",
    "        'daily_testing_false_positive', 'daily_testing_false_negative', 'class_size_limit', \n",
    "        'contact_upscale_factor', 'friendship_contacts', 'academic_contacts', 'broad_social_contacts', \n",
    "        'department_environmental_contacts', 'broad_environmental_contacts', 'residential_neighbors', \n",
    "        'online_transition']\n",
    "\n",
    "keys_to_round = ['incubation_period', 'serial_interval', 'recovery_days',\n",
    "                 'quarantine_days', 'days_indetectable', 'contact_tracing_days',\n",
    "                 'class_size_limit', 'friendship_contacts', 'academic_contacts',\n",
    "                 'broad_social_contacts', 'department_environmental_contacts',\n",
    "                 'broad_environmental_contacts', 'residential_neighbors', 'online_transition']"
   ]
  },
  {
   "cell_type": "markdown",
   "metadata": {},
   "source": [
    "These are the best values I've found"
   ]
  },
  {
   "cell_type": "code",
   "execution_count": null,
   "metadata": {},
   "outputs": [],
   "source": [
    "map_train = {'R0': 4.864972,\n",
    " 'academic_contacts': 1.9999999,\n",
    " 'broad_environmental_contacts': 4.0,\n",
    " 'broad_social_contacts': 1.0,\n",
    " 'class_size_limit': 147.0,\n",
    " 'contact_rate': 8.86977,\n",
    " 'contact_tracing_days': 1.0,\n",
    " 'contact_tracing_quarantine_rate': 1.6692917,\n",
    " 'contact_tracing_testing_rate': 0.89044154,\n",
    " 'contact_upscale_factor': 1.1708736,\n",
    " 'daily_testing_false_negative': 0.030860264,\n",
    " 'daily_testing_false_positive': 0.0009862408,\n",
    " 'daily_testing_fraction': 0.00036885968,\n",
    " 'days_indetectable': 2.0,\n",
    " 'department_environmental_contacts': 5.0,\n",
    " 'friendship_contacts': 4.0,\n",
    " 'incubation_period': 6.0,\n",
    " 'initial_infected_fraction': 0.0036397844,\n",
    " 'initial_removed_fraction': 0.038633253,\n",
    " 'npi_factor': 0.46783707,\n",
    " 'online_transition': 75.0,\n",
    " 'quarantine_days': 21.0,\n",
    " 'recovery_days': 12.0,\n",
    " 'residential_neighbors': 1.0,\n",
    " 'serial_interval': 9.0,\n",
    " 'symptomatic_fraction': 0.22690229}"
   ]
  },
  {
   "cell_type": "markdown",
   "metadata": {},
   "source": [
    "Need to add a couple parameters and scenario name.  Also, need to do some rounding."
   ]
  },
  {
   "cell_type": "code",
   "execution_count": null,
   "metadata": {},
   "outputs": [],
   "source": [
    "map_train['scenario_name'] = 'trial_optimum'\n",
    "map_train['quarantining'] = 1\n",
    "map_train['social_distancing'] = 1\n",
    "map_train['contact_tracing'] = 1\n",
    "for k in keys_to_round:\n",
    "    map_train[k] = int(np.round(map_train[k]))"
   ]
  },
  {
   "cell_type": "markdown",
   "metadata": {},
   "source": [
    "Initialize pandemic object"
   ]
  },
  {
   "cell_type": "code",
   "execution_count": null,
   "metadata": {},
   "outputs": [],
   "source": [
    "pandemic = pan.Disease(map_train)"
   ]
  },
  {
   "cell_type": "code",
   "execution_count": null,
   "metadata": {},
   "outputs": [],
   "source": [
    "recorder = pan.analysis.recorder(['tests_performed_total', 'positive_tests_total', 'active_cases'], \n",
    "                                     './trial_optimum.h5')"
   ]
  },
  {
   "cell_type": "markdown",
   "metadata": {},
   "source": [
    "Run a handful of simulations based on params above."
   ]
  },
  {
   "cell_type": "code",
   "execution_count": null,
   "metadata": {},
   "outputs": [],
   "source": [
    "pandemic.multiple_runs(10,recorder)"
   ]
  },
  {
   "cell_type": "code",
   "execution_count": null,
   "metadata": {},
   "outputs": [],
   "source": [
    "tests_total = recorder.values['tests_performed_total']['all_runs']\n",
    "pos_total = recorder.values['positive_tests_total']['all_runs']\n",
    "act_total = recorder.values['active_cases']['all_runs']"
   ]
  },
  {
   "cell_type": "markdown",
   "metadata": {},
   "source": [
    "Import data for plotting."
   ]
  },
  {
   "cell_type": "code",
   "execution_count": null,
   "metadata": {},
   "outputs": [],
   "source": [
    "data = pd.read_csv('datasets/testing.csv',skiprows=9)\n",
    "active = pd.read_csv('datasets/active.csv',skiprows=1)\n",
    "av = active.values[7:,2]\n",
    "r = np.linspace(0,len(av)-1,len(av))\n",
    "dd = np.vstack((r,av)).T\n",
    "ac = dd[np.invert(np.isnan(dd[:,1].astype(float)))]\n",
    "\n",
    "rapid_pcr_tests = np.nan_to_num(data.values[79:,2].astype(float))\n",
    "rapid_pcr_pos = np.nan_to_num(data.values[79:,4].astype(float))\n",
    "rapid_antigen_tests = np.nan_to_num(data.values[79:,3].astype(float))\n",
    "rapid_antigen_pos = np.nan_to_num(data.values[79:,5].astype(float))\n",
    "state_tests = np.nan_to_num(data.values[79:,6].astype(float))\n",
    "state_pos = np.nan_to_num(data.values[79:,8].astype(float))\n",
    "\n",
    "total_tests = rapid_pcr_tests + rapid_antigen_tests + state_tests\n",
    "total_pos = rapid_pcr_pos + rapid_antigen_pos + state_pos\n",
    "cum_tests = np.cumsum(total_tests)\n",
    "cum_pos = np.cumsum(total_pos)\n",
    "n_data = 194 - 90"
   ]
  },
  {
   "cell_type": "markdown",
   "metadata": {},
   "source": [
    "Plot"
   ]
  },
  {
   "cell_type": "code",
   "execution_count": null,
   "metadata": {},
   "outputs": [],
   "source": [
    "fig,axs = plt.subplots(nrows=3,sharex=True)\n",
    "fig.set_size_inches(12,12)\n",
    "[axs[0].plot(pos_total[i],'b-',alpha=0.3) for i in range(10)]\n",
    "axs[0].plot(cum_pos[:pos_total.shape[1]],'r-')\n",
    "axs[0].set_xlabel('day')\n",
    "axs[0].set_ylabel('Cumul. pos.')\n",
    "[axs[1].plot(tests_total[i],'b-',alpha=0.3) for i in range(10)]\n",
    "axs[1].plot(cum_tests[:pos_total.shape[1]],'r-')\n",
    "axs[1].set_xlabel('day')\n",
    "axs[1].set_ylabel('Cumul. tests')\n",
    "fig.savefig('abm_vs_data.pdf')\n",
    "[axs[2].plot(act_total[i],'b-',alpha=0.3) for i in range(10)]\n",
    "axs[2].set_xlabel('day')\n",
    "axs[2].set_ylabel('Active cases')"
   ]
  }
 ],
 "metadata": {
  "kernelspec": {
   "display_name": "Python 3",
   "language": "python",
   "name": "python3"
  },
  "language_info": {
   "codemirror_mode": {
    "name": "ipython",
    "version": 3
   },
   "file_extension": ".py",
   "mimetype": "text/x-python",
   "name": "python",
   "nbconvert_exporter": "python",
   "pygments_lexer": "ipython3",
   "version": "3.7.9"
  }
 },
 "nbformat": 4,
 "nbformat_minor": 4
}
